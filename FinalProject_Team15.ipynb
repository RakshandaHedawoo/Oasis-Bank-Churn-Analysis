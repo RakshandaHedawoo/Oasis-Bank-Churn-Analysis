{
  "nbformat": 4,
  "nbformat_minor": 0,
  "metadata": {
    "colab": {
      "provenance": []
    },
    "kernelspec": {
      "name": "python3",
      "display_name": "Python 3"
    },
    "language_info": {
      "name": "python"
    }
  },
  "cells": [
    {
      "cell_type": "markdown",
      "source": [
        "# Introduction\n",
        "\n",
        "As analysts engaged by Oasis Bank to investigate their customer churn rate, we are tasked with examining a dataset comprising various customer attributes and behaviors. This dataset includes information such as credit scores, geographic location, gender, age, tenure, balance, and more, for a sample of Oasis Bank's customers. Our primary objective is to utilize this dataset to understand the factors contributing to customer churn within Oasis Bank's customer base. By leveraging statistical analysis and machine learning techniques, we aim to uncover insights that will help Oasis Bank mitigate customer attrition, enhance customer satisfaction, and improve overall business performance.\n",
        "\n",
        "## Objectives\n",
        "\n",
        "- Analyze customer churn within Oasis Bank's customer base.\n",
        "- Identify key factors influencing customer attrition.\n",
        "- Utilize statistical analysis and machine learning to uncover actionable insights.\n",
        "- Provide recommendations to improve customer retention strategies.\n",
        "\n",
        "\n",
        "## Approach\n",
        "\n",
        "We'll use advanced methods like predictive modeling and cluster analysis to find useful insights. These insights will help us suggest specific strategies to keep customers from leaving Oasis Bank. Our approach relies on data, making sure our suggestions are based on real evidence and match the issues Oasis Bank is dealing with.\n",
        "\n",
        "\n"
      ],
      "metadata": {
        "id": "JtARNw-R6qbo"
      }
    },
    {
      "cell_type": "code",
      "execution_count": null,
      "metadata": {
        "colab": {
          "base_uri": "https://localhost:8080/"
        },
        "id": "Vnh91NXzhImW",
        "outputId": "81558c18-bd46-4850-c141-801ce174903e"
      },
      "outputs": [
        {
          "output_type": "stream",
          "name": "stdout",
          "text": [
            "Collecting pyspark\n",
            "  Downloading pyspark-3.5.1.tar.gz (317.0 MB)\n",
            "\u001b[2K     \u001b[90m━━━━━━━━━━━━━━━━━━━━━━━━━━━━━━━━━━━━━━━━\u001b[0m \u001b[32m317.0/317.0 MB\u001b[0m \u001b[31m2.2 MB/s\u001b[0m eta \u001b[36m0:00:00\u001b[0m\n",
            "\u001b[?25h  Preparing metadata (setup.py) ... \u001b[?25l\u001b[?25hdone\n",
            "Requirement already satisfied: py4j==0.10.9.7 in /usr/local/lib/python3.10/dist-packages (from pyspark) (0.10.9.7)\n",
            "Building wheels for collected packages: pyspark\n",
            "  Building wheel for pyspark (setup.py) ... \u001b[?25l\u001b[?25hdone\n",
            "  Created wheel for pyspark: filename=pyspark-3.5.1-py2.py3-none-any.whl size=317488493 sha256=48c46cf552f953b4b2ff8fd977fee2c95973001436a1d2b9a984cae670b25583\n",
            "  Stored in directory: /root/.cache/pip/wheels/80/1d/60/2c256ed38dddce2fdd93be545214a63e02fbd8d74fb0b7f3a6\n",
            "Successfully built pyspark\n",
            "Installing collected packages: pyspark\n",
            "Successfully installed pyspark-3.5.1\n"
          ]
        }
      ],
      "source": [
        "!pip install pyspark"
      ]
    },
    {
      "cell_type": "markdown",
      "source": [
        "Files used to create our Master dataset:\n",
        "\n",
        "1. **Customer Details**:  \n",
        "   - **Features:** Customer Id, Surname, Geography, Gender, Age, Estimated Salary.\n",
        "\n",
        "2. **Bank Details**:  \n",
        "   - **Features:** Customer Id, Credit Score, Tenure, Balance, Exited, Complain, Satisfaction Score.\n",
        "\n",
        "3. **Product Details**:  \n",
        "   - **Features:** CustomerId, NumOfProducts, HasCrCard, IsActiveMember, CardType, PointsEarner.\n"
      ],
      "metadata": {
        "id": "5VIzXGGWOAXa"
      }
    },
    {
      "cell_type": "markdown",
      "source": [
        "# Creating master data set"
      ],
      "metadata": {
        "id": "trNSDo455vHS"
      }
    },
    {
      "cell_type": "code",
      "source": [
        "from pyspark.sql import SparkSession\n",
        "\n",
        "# Create a SparkSession\n",
        "spark = SparkSession.builder.appName(\"BankProject\").getOrCreate()"
      ],
      "metadata": {
        "id": "l77RDiumhQRt"
      },
      "execution_count": null,
      "outputs": []
    },
    {
      "cell_type": "code",
      "source": [
        "cust_data=spark.read.csv('Customer_details.csv', header=True, inferSchema=True)\n",
        "bank_data=spark.read.csv('Bank_details.csv', header=True, inferSchema=True)\n",
        "prod_data=spark.read.csv('Product_details.csv', header=True, inferSchema=True)"
      ],
      "metadata": {
        "id": "C90MT0vWhwrP"
      },
      "execution_count": null,
      "outputs": []
    },
    {
      "cell_type": "code",
      "source": [
        "cust_data.show(2, truncate=False)\n",
        "bank_data.show(2, truncate=False)\n",
        "prod_data.show(2, truncate=False)"
      ],
      "metadata": {
        "colab": {
          "base_uri": "https://localhost:8080/"
        },
        "id": "MJbVaM3m56vd",
        "outputId": "1829756c-52c4-481c-b6f5-b9e05ac22e34"
      },
      "execution_count": null,
      "outputs": [
        {
          "output_type": "stream",
          "name": "stdout",
          "text": [
            "+----------+--------+---------+------+---+---------------+\n",
            "|CustomerId|Surname |Geography|Gender|Age|EstimatedSalary|\n",
            "+----------+--------+---------+------+---+---------------+\n",
            "|15634602  |Hargrave|France   |Female|42 |101348.88      |\n",
            "|15647311  |Hill    |Spain    |Female|41 |112542.58      |\n",
            "+----------+--------+---------+------+---+---------------+\n",
            "only showing top 2 rows\n",
            "\n",
            "+----------+-----------+------+--------+------+--------+-----------------+\n",
            "|CustomerId|CreditScore|Tenure|Balance |Exited|Complain|SatisfactionScore|\n",
            "+----------+-----------+------+--------+------+--------+-----------------+\n",
            "|15634602  |619        |2     |0.0     |1     |1       |2                |\n",
            "|15647311  |608        |1     |83807.86|0     |1       |3                |\n",
            "+----------+-----------+------+--------+------+--------+-----------------+\n",
            "only showing top 2 rows\n",
            "\n",
            "+----------+-------------+---------+--------------+--------+-----------+\n",
            "|CustomerId|NumOfProducts|HasCrCard|IsActiveMember|CardType|PointEarned|\n",
            "+----------+-------------+---------+--------------+--------+-----------+\n",
            "|15634602  |1            |1        |1             |DIAMOND |464        |\n",
            "|15647311  |1            |0        |1             |DIAMOND |456        |\n",
            "+----------+-------------+---------+--------------+--------+-----------+\n",
            "only showing top 2 rows\n",
            "\n"
          ]
        }
      ]
    },
    {
      "cell_type": "code",
      "source": [
        "master_data = cust_data.join(bank_data,[\"CustomerId\"])\n",
        "master_data = master_data.join(prod_data,[\"CustomerId\"])\n",
        "\n",
        "\n",
        "# Display the first 2 records of the joined data\n",
        "master_data.show(2,truncate=False)"
      ],
      "metadata": {
        "colab": {
          "base_uri": "https://localhost:8080/"
        },
        "id": "1qyOz-NZUiQ5",
        "outputId": "e0265bd0-b3ef-4a4c-9a9a-e571910599eb"
      },
      "execution_count": null,
      "outputs": [
        {
          "output_type": "stream",
          "name": "stdout",
          "text": [
            "+----------+--------+---------+------+---+---------------+-----------+------+--------+------+--------+-----------------+-------------+---------+--------------+--------+-----------+\n",
            "|CustomerId|Surname |Geography|Gender|Age|EstimatedSalary|CreditScore|Tenure|Balance |Exited|Complain|SatisfactionScore|NumOfProducts|HasCrCard|IsActiveMember|CardType|PointEarned|\n",
            "+----------+--------+---------+------+---+---------------+-----------+------+--------+------+--------+-----------------+-------------+---------+--------------+--------+-----------+\n",
            "|15634602  |Hargrave|France   |Female|42 |101348.88      |619        |2     |0.0     |1     |1       |2                |1            |1        |1             |DIAMOND |464        |\n",
            "|15647311  |Hill    |Spain    |Female|41 |112542.58      |608        |1     |83807.86|0     |1       |3                |1            |0        |1             |DIAMOND |456        |\n",
            "+----------+--------+---------+------+---+---------------+-----------+------+--------+------+--------+-----------------+-------------+---------+--------------+--------+-----------+\n",
            "only showing top 2 rows\n",
            "\n"
          ]
        }
      ]
    },
    {
      "cell_type": "markdown",
      "source": [
        "## Customer Demographics Analysis"
      ],
      "metadata": {
        "id": "PxRDkP9Ro_zE"
      }
    },
    {
      "cell_type": "code",
      "source": [
        "from pyspark.sql.functions import col, when\n",
        "\n",
        "\n",
        "#Grouping using sum () function on the basis of Department and Gender\n",
        "result1 = master_data.groupBy(\"Geography\", \"Gender\").count().orderBy(\"Geography\", \"Gender\")\n",
        "\n",
        "# Show the result with organized order\n",
        "result1.show(truncate=False)\n",
        "\n",
        "\n",
        "# Assuming master_data is your DataFrame\n",
        "result2 = master_data.select(\n",
        "    (\n",
        "        when((col(\"Age\").between(18, 25)), \"18-25\")\n",
        "        .when((col(\"Age\").between(26, 35)), \"26-35\")\n",
        "        .when((col(\"Age\").between(36, 45)), \"36-45\")\n",
        "        .when((col(\"Age\").between(46, 55)), \"46-55\")\n",
        "        .when((col(\"Age\").between(56, 65)), \"56-65\")\n",
        "        .otherwise(\"66+\").alias(\"AgeGroup\")\n",
        "    )\n",
        ").groupBy(\"AgeGroup\").count().orderBy(\"AgeGroup\")\n",
        "\n",
        "result2.show()"
      ],
      "metadata": {
        "colab": {
          "base_uri": "https://localhost:8080/"
        },
        "id": "JmOFbX8SmMti",
        "outputId": "0924e8b0-c0ab-4f60-f6f9-25c544c2a206"
      },
      "execution_count": null,
      "outputs": [
        {
          "output_type": "stream",
          "name": "stdout",
          "text": [
            "+---------+------+-----+\n",
            "|Geography|Gender|count|\n",
            "+---------+------+-----+\n",
            "|France   |Female|2261 |\n",
            "|France   |Male  |2753 |\n",
            "|Germany  |Female|1193 |\n",
            "|Germany  |Male  |1316 |\n",
            "|Spain    |Female|1089 |\n",
            "|Spain    |Male  |1388 |\n",
            "+---------+------+-----+\n",
            "\n",
            "+--------+-----+\n",
            "|AgeGroup|count|\n",
            "+--------+-----+\n",
            "|   18-25|  611|\n",
            "|   26-35| 3542|\n",
            "|   36-45| 3736|\n",
            "|   46-55| 1311|\n",
            "|   56-65|  536|\n",
            "|     66+|  264|\n",
            "+--------+-----+\n",
            "\n"
          ]
        }
      ]
    },
    {
      "cell_type": "markdown",
      "source": [
        "**Geographical and Gender Distribution:**\n",
        "*   France has the highest number of customers, followed by Germany and Spain.\n",
        "*   In each country, there are more male customers than female customers.\n"
      ],
      "metadata": {
        "id": "EHfSqEqOoz6m"
      }
    },
    {
      "cell_type": "markdown",
      "source": [
        "\n",
        "**Age Distribution:**\n",
        "The observations from the age distribution data suggest that the bank's products and services are currently most appealing to middle-aged customers, particularly those between 26 and 45 years old. The lower customer counts in the younger (18-25) and older (46+) age brackets indicate that these segments might not be fully tapped or might find the bank's offerings less appealing or relevant."
      ],
      "metadata": {
        "id": "wZrj5ooOo5A1"
      }
    },
    {
      "cell_type": "markdown",
      "source": [
        "## Financial Health Assessment"
      ],
      "metadata": {
        "id": "F0qAvVLCpLgX"
      }
    },
    {
      "cell_type": "code",
      "source": [
        "#Average balance and credit score by geography\n",
        "average_data = master_data.groupBy(\"Geography\").agg(\n",
        "    {\"Balance\": \"avg\", \"CreditScore\": \"avg\"}\n",
        ").withColumnRenamed(\"avg(Balance)\", \"AverageBalance\").withColumnRenamed(\"avg(CreditScore)\", \"AverageCreditScore\").orderBy(\"Geography\")\n",
        "\n",
        "average_data.show()\n",
        "\n",
        "#Customer segments based on balance and credit score\n",
        "segment_data = master_data.select(\n",
        "    when((col(\"Balance\") > 100000) & (col(\"CreditScore\") > 700), \"High-Value Low-Risk\")\n",
        "    .when((col(\"Balance\") < 100000) & (col(\"CreditScore\") > 700), \"Low-Value Low-Risk\")\n",
        "    .when((col(\"Balance\") > 100000) & (col(\"CreditScore\") <= 700), \"High-Value High-Risk\")\n",
        "    .otherwise(\"Low-Value High-Risk\")\n",
        "    .alias(\"Segment\")\n",
        ").groupBy(\"Segment\").count()\n",
        "\n",
        "segment_data.show()"
      ],
      "metadata": {
        "colab": {
          "base_uri": "https://localhost:8080/"
        },
        "id": "IQUadaRepcJr",
        "outputId": "1144f066-7aa5-4f3b-b18f-ed5f14528801"
      },
      "execution_count": null,
      "outputs": [
        {
          "output_type": "stream",
          "name": "stdout",
          "text": [
            "+---------+------------------+------------------+\n",
            "|Geography|AverageCreditScore|    AverageBalance|\n",
            "+---------+------------------+------------------+\n",
            "|   France| 649.6683286796969|  62092.6365157559|\n",
            "|  Germany| 651.4535671582304|119730.11613391782|\n",
            "|    Spain| 651.3338716188938| 61818.14776342349|\n",
            "+---------+------------------+------------------+\n",
            "\n",
            "+--------------------+-----+\n",
            "|             Segment|count|\n",
            "+--------------------+-----+\n",
            "| Low-Value High-Risk| 3586|\n",
            "|  Low-Value Low-Risk| 1615|\n",
            "|High-Value High-Risk| 3298|\n",
            "| High-Value Low-Risk| 1501|\n",
            "+--------------------+-----+\n",
            "\n"
          ]
        }
      ]
    },
    {
      "cell_type": "markdown",
      "source": [
        "**Geographic Financial Trends:** Customers in Germany tend to have higher average balances compared to those in France and Spain, suggesting stronger financial engagement or wealth accumulation among German customers. Despite these differences in balances, the average credit scores are relatively consistent across the countries, indicating similar creditworthiness among the bank's clientele in these regions.\n",
        "\n",
        "**Customer Risk Segmentation:** A significant portion of the bank's customers fall into the \"Low-Value High-Risk\" and \"High-Value High-Risk\" segments, suggesting that many customers either have lower balances with higher risk or higher balances with higher risk. The presence of a substantial \"High-Value Low-Risk\" segment indicates a solid customer base with good financial standing and low risk. The bank might consider developing targeted strategies to migrate customers from high-risk to low-risk segments while also focusing on increasing the value of low-value customers."
      ],
      "metadata": {
        "id": "XUx3JeF1qtqm"
      }
    },
    {
      "cell_type": "markdown",
      "source": [
        "## Risk and Churn Analysis"
      ],
      "metadata": {
        "id": "CKDUZgfCqzTe"
      }
    },
    {
      "cell_type": "code",
      "source": [
        "# Identifying churn rates by product and card types\n",
        "\n",
        "churn_data = master_data.groupBy(\"NumOfProducts\", \"CardType\").agg(\n",
        "    {\"Exited\": \"avg\"}\n",
        ").withColumnRenamed(\"avg(Exited)\", \"ChurnRate\").orderBy(\"NumOfProducts\", \"CardType\")\n",
        "\n",
        "churn_data.show()"
      ],
      "metadata": {
        "colab": {
          "base_uri": "https://localhost:8080/"
        },
        "id": "0wjM8askq01r",
        "outputId": "c8d79f01-2e57-493d-9980-012e00a774b2"
      },
      "execution_count": null,
      "outputs": [
        {
          "output_type": "stream",
          "name": "stdout",
          "text": [
            "+-------------+--------+-------------------+\n",
            "|NumOfProducts|CardType|          ChurnRate|\n",
            "+-------------+--------+-------------------+\n",
            "|            1| DIAMOND| 0.2828054298642534|\n",
            "|            1|    GOLD|0.26242236024844723|\n",
            "|            1|PLATINUM|0.27339300244100895|\n",
            "|            1|  SILVER|  0.290088638195004|\n",
            "|            2| DIAMOND|0.08949771689497717|\n",
            "|            2|    GOLD|0.06748466257668712|\n",
            "|            2|PLATINUM|0.08013640238704177|\n",
            "|            2|  SILVER|0.06773920406435224|\n",
            "|            3| DIAMOND| 0.8169014084507042|\n",
            "|            3|    GOLD| 0.8909090909090909|\n",
            "|            3|PLATINUM| 0.8051948051948052|\n",
            "|            3|  SILVER| 0.8095238095238095|\n",
            "|            4| DIAMOND|                1.0|\n",
            "|            4|    GOLD|                1.0|\n",
            "|            4|PLATINUM|                1.0|\n",
            "|            4|  SILVER|                1.0|\n",
            "+-------------+--------+-------------------+\n",
            "\n"
          ]
        }
      ]
    },
    {
      "cell_type": "markdown",
      "source": [
        "**Product and Churn Relationship:** Customers with one product have moderate churn rates across different card types, indicating potential dissatisfaction or unmet needs. The churn rate drastically decreases for customers with two products, suggesting higher satisfaction or engagement at this level. However, customers with three or four products exhibit extremely high to total churn rates, signaling potential issues with service or product offerings for these segments.\n",
        "\n",
        "**Card Type and Churn Correlation:** Among customers with one or two products, churn rates vary slightly by card type, but not significantly. However, for customers with three or four products, the churn rate reaches alarming levels, irrespective of the card type, indicating that the number of products might be a stronger predictor of churn than the type of card."
      ],
      "metadata": {
        "id": "TEmf6BLurSUJ"
      }
    },
    {
      "cell_type": "markdown",
      "source": [
        "## Loyalty and Satisfaction Exploration"
      ],
      "metadata": {
        "id": "2jJKBO12rYAh"
      }
    },
    {
      "cell_type": "code",
      "source": [
        "#Satisfaction scores across different customer segments\n",
        "\n",
        "segment_data = master_data.withColumn(\n",
        "    \"Segment\",\n",
        "    when((col(\"Balance\") > 100000) & (col(\"CreditScore\") > 700), \"High-Value Low-Risk\")\n",
        "    .when((col(\"Balance\") < 100000) & (col(\"CreditScore\") > 700), \"Low-Value Low-Risk\")\n",
        "    .when((col(\"Balance\") > 100000) & (col(\"CreditScore\") <= 700), \"High-Value High-Risk\")\n",
        "    .otherwise(\"Low-Value High-Risk\")\n",
        ").groupBy(\"Segment\").agg({\"SatisfactionScore\": \"avg\"}).withColumnRenamed(\"avg(SatisfactionScore)\", \"AvgSatisfaction\")\n",
        "\n",
        "segment_data.show()\n",
        "\n",
        "#Correlation between satisfaction score and churn\n",
        "\n",
        "churn_data = master_data.groupBy(\"SatisfactionScore\").agg({\"Exited\": \"avg\"}).withColumnRenamed(\"avg(Exited)\", \"ChurnRate\").orderBy(\"SatisfactionScore\")\n",
        "\n",
        "churn_data.show()"
      ],
      "metadata": {
        "colab": {
          "base_uri": "https://localhost:8080/"
        },
        "id": "-KGXqYfzrUUM",
        "outputId": "36f62349-dfe2-4d19-8fc5-ec10dc539115"
      },
      "execution_count": null,
      "outputs": [
        {
          "output_type": "stream",
          "name": "stdout",
          "text": [
            "+--------------------+------------------+\n",
            "|             Segment|   AvgSatisfaction|\n",
            "+--------------------+------------------+\n",
            "| Low-Value High-Risk| 3.053820412716118|\n",
            "|  Low-Value Low-Risk|2.9622291021671825|\n",
            "|High-Value High-Risk|2.9978775015160704|\n",
            "| High-Value Low-Risk|3.0086608927381744|\n",
            "+--------------------+------------------+\n",
            "\n",
            "+-----------------+-------------------+\n",
            "|SatisfactionScore|          ChurnRate|\n",
            "+-----------------+-------------------+\n",
            "|                1|0.20031055900621117|\n",
            "|                2|  0.217974180734856|\n",
            "|                3|0.19637610186092067|\n",
            "|                4| 0.2061752988047809|\n",
            "|                5|0.19810379241516965|\n",
            "+-----------------+-------------------+\n",
            "\n"
          ]
        }
      ]
    },
    {
      "cell_type": "markdown",
      "source": [
        "\n",
        "**Satisfaction Across Segments:** Customer satisfaction levels are relatively similar across different financial segments, with all averages hovering around the 3 out of 5 marks. Notably, there's no significant satisfaction gap between high-value and low-value customers, nor between high-risk and low-risk customers, suggesting that the bank's services might be perceived as consistently average across different customer financial profiles.\n",
        "\n",
        "**Satisfaction and Churn Correlation:** There doesn't appear to be a strong direct correlation between satisfaction scores and churn rates. Customers with the lowest (1) and slightly higher (2) satisfaction scores exhibit higher churn rates, which aligns with expectations. However, the churn rate does not progressively decrease with higher satisfaction scores; it fluctuates slightly, suggesting that factors other than satisfaction might be influencing customers' decisions to exit. This indicates that improving satisfaction scores alone may not be sufficient to significantly reduce churn rates; a deeper investigation into other contributing factors is necessary."
      ],
      "metadata": {
        "id": "A1lLfsfFr6CL"
      }
    },
    {
      "cell_type": "markdown",
      "source": [
        "##Pyspark Live Streaming"
      ],
      "metadata": {
        "id": "GGI3PEwLr8X-"
      }
    },
    {
      "cell_type": "code",
      "source": [
        "#Reading the data\n",
        "custdata=spark.read.csv('Customer-Churn-Records.csv', header=True, inferSchema=True)\n",
        "\n",
        "#Reading the stream of data by specifying the schema and directory\n",
        "custdata_stream=spark.readStream.schema(custdata.schema).csv('CustDir/')\n",
        "\n",
        "#Writing the stream of data to a table named emptable\n",
        "#The output mode is append which means that the data will be added always to existing table\n",
        "empquery=custdata_stream.writeStream.queryName(\"Custtable\").format(\"memory\").outputMode(\"append\").start()"
      ],
      "metadata": {
        "id": "P956K74aoVxk"
      },
      "execution_count": null,
      "outputs": []
    },
    {
      "cell_type": "code",
      "source": [
        "#Copy the EmployeeAttrition.csv file to the Attrition folder\n",
        "import shutil\n",
        "src=r\"Customer-Churn-Records.csv\"\n",
        "dest = r\"CustDir\"\n",
        "shutil.copy(src,dest)"
      ],
      "metadata": {
        "colab": {
          "base_uri": "https://localhost:8080/",
          "height": 35
        },
        "id": "t0wMLOpeZ72_",
        "outputId": "4c70b141-cfc1-4255-f67a-3eae89824ec9"
      },
      "execution_count": null,
      "outputs": [
        {
          "output_type": "execute_result",
          "data": {
            "text/plain": [
              "'CustDir/Customer-Churn-Records.csv'"
            ],
            "application/vnd.google.colaboratory.intrinsic+json": {
              "type": "string"
            }
          },
          "metadata": {},
          "execution_count": 7
        }
      ]
    },
    {
      "cell_type": "code",
      "source": [
        "spark.sql(\"select Geography,SUM(Exited) AS Exited_Count,SUM(Complain) AS Complain_Count,AVG(`Satisfaction Score`) AS Avg_Satisfaction_Score FROM Custtable GROUP BY Geography\").show()"
      ],
      "metadata": {
        "colab": {
          "base_uri": "https://localhost:8080/"
        },
        "id": "rAd1KON2Zn41",
        "outputId": "b70df063-6af6-4858-fc9a-9bde24441cb0"
      },
      "execution_count": null,
      "outputs": [
        {
          "output_type": "stream",
          "name": "stdout",
          "text": [
            "+---------+------------+--------------+----------------------+\n",
            "|Geography|Exited_Count|Complain_Count|Avg_Satisfaction_Score|\n",
            "+---------+------------+--------------+----------------------+\n",
            "|  Germany|         814|           819|    3.0059784774810683|\n",
            "|   France|         811|           812|    3.0177502991623455|\n",
            "|    Spain|         413|           413|     3.013726281792491|\n",
            "|Geography|        NULL|          NULL|                  NULL|\n",
            "+---------+------------+--------------+----------------------+\n",
            "\n"
          ]
        }
      ]
    },
    {
      "cell_type": "code",
      "source": [
        "#Displaying the number of records after adding the copy of file to the folder\n",
        "import time\n",
        "for i in range (5):\n",
        "    spark.sql(\"select Geography,SUM(Exited) AS Exited_Count,SUM(Complain) AS Complain_Count,AVG(`Satisfaction Score`) AS Avg_Satisfaction_Score FROM Custtable GROUP BY Geography\").show()\n",
        "    newfile=\"CustDir/GeographyDetails\" + str(i) +  \".csv\"\n",
        "    shutil.copy(src,newfile)\n",
        "    time.sleep(5)"
      ],
      "metadata": {
        "id": "bbT353n4ZrYN",
        "colab": {
          "base_uri": "https://localhost:8080/"
        },
        "outputId": "248b4e19-bf83-4bf7-d537-1047a33b6973"
      },
      "execution_count": null,
      "outputs": [
        {
          "output_type": "stream",
          "name": "stdout",
          "text": [
            "+---------+------------+--------------+----------------------+\n",
            "|Geography|Exited_Count|Complain_Count|Avg_Satisfaction_Score|\n",
            "+---------+------------+--------------+----------------------+\n",
            "|  Germany|         814|           819|    3.0059784774810683|\n",
            "|   France|         811|           812|    3.0177502991623455|\n",
            "|    Spain|         413|           413|     3.013726281792491|\n",
            "|Geography|        NULL|          NULL|                  NULL|\n",
            "+---------+------------+--------------+----------------------+\n",
            "\n",
            "+---------+------------+--------------+----------------------+\n",
            "|Geography|Exited_Count|Complain_Count|Avg_Satisfaction_Score|\n",
            "+---------+------------+--------------+----------------------+\n",
            "|  Germany|        1628|          1638|    3.0059784774810683|\n",
            "|   France|        1622|          1624|    3.0177502991623455|\n",
            "|    Spain|         826|           826|     3.013726281792491|\n",
            "|Geography|        NULL|          NULL|                  NULL|\n",
            "+---------+------------+--------------+----------------------+\n",
            "\n",
            "+---------+------------+--------------+----------------------+\n",
            "|Geography|Exited_Count|Complain_Count|Avg_Satisfaction_Score|\n",
            "+---------+------------+--------------+----------------------+\n",
            "|  Germany|        2442|          2457|    3.0059784774810683|\n",
            "|   France|        2433|          2436|    3.0177502991623455|\n",
            "|    Spain|        1239|          1239|     3.013726281792491|\n",
            "|Geography|        NULL|          NULL|                  NULL|\n",
            "+---------+------------+--------------+----------------------+\n",
            "\n",
            "+---------+------------+--------------+----------------------+\n",
            "|Geography|Exited_Count|Complain_Count|Avg_Satisfaction_Score|\n",
            "+---------+------------+--------------+----------------------+\n",
            "|  Germany|        3256|          3276|    3.0059784774810683|\n",
            "|   France|        3244|          3248|    3.0177502991623455|\n",
            "|    Spain|        1652|          1652|     3.013726281792491|\n",
            "|Geography|        NULL|          NULL|                  NULL|\n",
            "+---------+------------+--------------+----------------------+\n",
            "\n",
            "+---------+------------+--------------+----------------------+\n",
            "|Geography|Exited_Count|Complain_Count|Avg_Satisfaction_Score|\n",
            "+---------+------------+--------------+----------------------+\n",
            "|  Germany|        4070|          4095|    3.0059784774810683|\n",
            "|   France|        4055|          4060|    3.0177502991623455|\n",
            "|    Spain|        2065|          2065|     3.013726281792491|\n",
            "|Geography|        NULL|          NULL|                  NULL|\n",
            "+---------+------------+--------------+----------------------+\n",
            "\n"
          ]
        }
      ]
    },
    {
      "cell_type": "markdown",
      "source": [
        "**Churn Analysis by Geography**\n",
        "\n",
        "- Germany has the highest number of customer exits, followed closely by France, while Spain has the lowest churn rate.\n",
        "- Despite Germany having a higher number of customer exits, its average satisfaction score is relatively close to that of France and Spain.\n",
        "\n",
        "**Complaint Counts:**\n",
        "\n",
        "- Complaint counts are nearly equivalent to the number of customer exits in each geographical region, indicating a potential correlation between complaints and churn.\n",
        "\n",
        "**Average Satisfaction Score:**\n",
        "\n",
        "- The average satisfaction score across all geographical regions is above 3, suggesting a moderate level of satisfaction among customers.\n",
        "- There is minimal variation in the average satisfaction scores among the different regions.\n",
        "\n",
        "## **Suggestions:**\n",
        "\n",
        "**Germany and France:**\n",
        "\n",
        "- To investigate the root causes behind the higher churn rates in Germany and France.We can conduct customer surveys, feedback analysis, and sentiment analysis to identify common pain points and areas for improvement.\n",
        "- To focus on enhancing customer service and support in these regions to address customer complaints promptly and effectively.\n",
        "- Implement targeted retention strategies such as personalized offers, loyalty programs, and proactive outreach to dissatisfied customers.\n",
        "\n",
        "**Spain:**\n",
        "\n",
        "- Explore the factors contributing to the lower churn rate in Spain and identify best practices that can be replicated in other regions.\n",
        "- Leverage customer satisfaction insights from Spain to enhance overall service quality and customer experience across all regions.\n",
        "- Encourage customer engagement and loyalty through exclusive promotions, rewards, and incentives tailored to the preferences of Spanish customers.\n",
        "\n",
        "**Overall Strategy:**\n",
        "\n",
        "- Emphasize the importance of proactive customer relationship management and continuous improvement initiatives to reduce churn rates across all geographical regions.\n",
        "- Foster a customer-centric culture within the organization by prioritizing customer feedback, addressing pain points, and delivering exceptional service.\n",
        "- Leverage advanced analytics and predictive modeling techniques to forecast churn trends, identify at-risk customers, and implement preventive measures proactively.\n",
        "\n",
        "By addressing the underlying issues contributing to churn, optimizing customer satisfaction, and implementing targeted retention strategies, the company can enhance customer loyalty, drive sustainable growth, and foster long-term success in the highly competitive market landscape.\n"
      ],
      "metadata": {
        "id": "1JMr-k4tszvu"
      }
    },
    {
      "cell_type": "markdown",
      "source": [
        "# Unsupervised ML Technique - Clustering : KMeans    \n",
        "Let's divide the customers in different clusters to understand which group of customers is having the highest churn rate. Moreover, for the clusters having high churn rate we tried to find the different factors that might be common between the clusters."
      ],
      "metadata": {
        "id": "GK11cze4DV_q"
      }
    },
    {
      "cell_type": "code",
      "source": [
        "from pyspark.sql.functions import udf\n",
        "from pyspark.sql.types import *\n",
        "\n",
        "#Creating a function\n",
        "def set_cardtype(cardtype):\n",
        "    if cardtype==\"SILVER\":\n",
        "        return 1\n",
        "    elif cardtype==\"GOLD\":\n",
        "        return 2\n",
        "    elif cardtype==\"DIAMOND\":\n",
        "        return 3\n",
        "    elif cardtype==\"PLATINUM\":\n",
        "        return 4\n",
        "    else:\n",
        "        return 0\n",
        "\n",
        "#Creating a user defined function\n",
        "set_udf=udf(set_cardtype,StringType())\n",
        "\n",
        "#Adding a new column containing value based on user defined function\n",
        "master_data=master_data.withColumn('CardTypeImp',set_udf(master_data['CardType']))\n",
        "\n",
        "#Displaying the results\n",
        "master_data.select(\"CardType\",\"CardTypeImp\").show(5)"
      ],
      "metadata": {
        "colab": {
          "base_uri": "https://localhost:8080/"
        },
        "id": "Ssn2UoKT6GeI",
        "outputId": "3b70fd13-e329-4e64-b9ba-977c7fb2aa4c"
      },
      "execution_count": null,
      "outputs": [
        {
          "output_type": "stream",
          "name": "stdout",
          "text": [
            "+--------+-----------+\n",
            "|CardType|CardTypeImp|\n",
            "+--------+-----------+\n",
            "| DIAMOND|          3|\n",
            "| DIAMOND|          3|\n",
            "| DIAMOND|          3|\n",
            "|    GOLD|          2|\n",
            "|    GOLD|          2|\n",
            "+--------+-----------+\n",
            "only showing top 5 rows\n",
            "\n"
          ]
        }
      ]
    },
    {
      "cell_type": "code",
      "source": [
        "from pyspark.ml.feature import StringIndexer\n",
        "from pyspark.ml.feature import OneHotEncoder\n",
        "from  pyspark.ml.feature import VectorAssembler\n",
        "from pyspark.ml import Pipeline\n",
        "from pyspark.ml.clustering import KMeans\n",
        "\n",
        "str_rec=StringIndexer(inputCols=[\"Geography\",\"Gender\",\"Exited\",\"IsActiveMember\",\"CardTypeImp\",\"HasCrCard\",\"Complain\"],\n",
        "                      outputCols=[\"newGeography\",\"newGender\",\"newExited\",\"newIsActiveMember\",\"newCardTypeImp\",\"newHasCrCard\",\"newComplain\"], stringOrderType=\"alphabetAsc\")\n",
        "\n",
        "onehot_rec=OneHotEncoder(inputCols=[\"newGeography\",\"newGender\",\"newIsActiveMember\",\"newExited\",\"newHasCrCard\",\"newComplain\"],\n",
        "                         outputCols=[\"newGeography2\",\"newGender2\",\"newIsActiveMember2\",\"newExited2\",\"newHasCrCard2\",\"newComplain2\"])\n",
        "\n",
        "vec_rec=VectorAssembler(inputCols=[\"newGeography2\",\"newGender2\",\"newIsActiveMember2\",\"newExited2\",\"newHasCrCard2\",\n",
        "                                   \"Age\",\"EstimatedSalary\",\"CreditScore\",\"Tenure\",\"Balance\",\"SatisfactionScore\",\"NumOfProducts\",\"PointEarned\",\"newComplain2\"],\n",
        "                        outputCol=\"all_features\")\n",
        "\n",
        "kmeans=KMeans(featuresCol=\"all_features\").setK(4).setSeed(123)\n",
        "kmeanspipeline=Pipeline(stages=[str_rec,onehot_rec,vec_rec,kmeans])\n",
        "kmeansresult=kmeanspipeline.fit(master_data).transform(master_data)\n",
        "kmeansresult.show()"
      ],
      "metadata": {
        "id": "vl-x-lDKDW3h",
        "colab": {
          "base_uri": "https://localhost:8080/"
        },
        "outputId": "51c7d1b8-6f4d-423f-d07b-6af5415501ab"
      },
      "execution_count": null,
      "outputs": [
        {
          "output_type": "stream",
          "name": "stdout",
          "text": [
            "+----------+---------+---------+------+---+---------------+-----------+------+---------+------+--------+-----------------+-------------+---------+--------------+--------+-----------+-----------+------------+---------+---------+-----------------+--------------+------------+-----------+-------------+-------------+------------------+-------------+-------------+-------------+--------------------+----------+\n",
            "|CustomerId|  Surname|Geography|Gender|Age|EstimatedSalary|CreditScore|Tenure|  Balance|Exited|Complain|SatisfactionScore|NumOfProducts|HasCrCard|IsActiveMember|CardType|PointEarned|CardTypeImp|newGeography|newGender|newExited|newIsActiveMember|newCardTypeImp|newHasCrCard|newComplain|newGeography2|   newGender2|newIsActiveMember2|   newExited2|newHasCrCard2| newComplain2|        all_features|prediction|\n",
            "+----------+---------+---------+------+---+---------------+-----------+------+---------+------+--------+-----------------+-------------+---------+--------------+--------+-----------+-----------+------------+---------+---------+-----------------+--------------+------------+-----------+-------------+-------------+------------------+-------------+-------------+-------------+--------------------+----------+\n",
            "|  15634602| Hargrave|   France|Female| 42|      101348.88|        619|     2|      0.0|     1|       1|                2|            1|        1|             1| DIAMOND|        464|          3|         0.0|      0.0|      1.0|              1.0|           2.0|         1.0|        1.0|(2,[0],[1.0])|(1,[0],[1.0])|         (1,[],[])|    (1,[],[])|    (1,[],[])|    (1,[],[])|[1.0,0.0,1.0,0.0,...|         1|\n",
            "|  15647311|     Hill|    Spain|Female| 41|      112542.58|        608|     1| 83807.86|     0|       1|                3|            1|        0|             1| DIAMOND|        456|          3|         2.0|      0.0|      0.0|              1.0|           2.0|         0.0|        1.0|    (2,[],[])|(1,[0],[1.0])|         (1,[],[])|(1,[0],[1.0])|(1,[0],[1.0])|    (1,[],[])|[0.0,0.0,1.0,0.0,...|         0|\n",
            "|  15619304|     Onio|   France|Female| 42|      113931.57|        502|     8| 159660.8|     1|       1|                3|            3|        1|             0| DIAMOND|        377|          3|         0.0|      0.0|      1.0|              0.0|           2.0|         1.0|        1.0|(2,[0],[1.0])|(1,[0],[1.0])|     (1,[0],[1.0])|    (1,[],[])|    (1,[],[])|    (1,[],[])|[1.0,0.0,1.0,1.0,...|         0|\n",
            "|  15701354|     Boni|   France|Female| 39|       93826.63|        699|     1|      0.0|     0|       0|                5|            2|        0|             0|    GOLD|        350|          2|         0.0|      0.0|      0.0|              0.0|           1.0|         0.0|        0.0|(2,[0],[1.0])|(1,[0],[1.0])|     (1,[0],[1.0])|(1,[0],[1.0])|(1,[0],[1.0])|(1,[0],[1.0])|[1.0,0.0,1.0,1.0,...|         2|\n",
            "|  15737888| Mitchell|    Spain|Female| 43|        79084.1|        850|     2|125510.82|     0|       0|                5|            1|        1|             1|    GOLD|        425|          2|         2.0|      0.0|      0.0|              1.0|           1.0|         1.0|        0.0|    (2,[],[])|(1,[0],[1.0])|         (1,[],[])|(1,[0],[1.0])|    (1,[],[])|(1,[0],[1.0])|[0.0,0.0,1.0,0.0,...|         3|\n",
            "|  15574012|      Chu|    Spain|  Male| 44|      149756.71|        645|     8|113755.78|     1|       1|                5|            2|        1|             0| DIAMOND|        484|          3|         2.0|      1.0|      1.0|              0.0|           2.0|         1.0|        1.0|    (2,[],[])|    (1,[],[])|     (1,[0],[1.0])|    (1,[],[])|    (1,[],[])|    (1,[],[])|[0.0,0.0,0.0,1.0,...|         0|\n",
            "|  15592531| Bartlett|   France|  Male| 50|        10062.8|        822|     7|      0.0|     0|       0|                2|            2|        1|             1|  SILVER|        206|          1|         0.0|      1.0|      0.0|              1.0|           0.0|         1.0|        0.0|(2,[0],[1.0])|    (1,[],[])|         (1,[],[])|(1,[0],[1.0])|    (1,[],[])|(1,[0],[1.0])|[1.0,0.0,0.0,0.0,...|         2|\n",
            "|  15656148|   Obinna|  Germany|Female| 29|      119346.88|        376|     4|115046.74|     1|       1|                2|            4|        1|             0| DIAMOND|        282|          3|         1.0|      0.0|      1.0|              0.0|           2.0|         1.0|        1.0|(2,[1],[1.0])|(1,[0],[1.0])|     (1,[0],[1.0])|    (1,[],[])|    (1,[],[])|    (1,[],[])|[0.0,1.0,1.0,1.0,...|         0|\n",
            "|  15792365|       He|   France|  Male| 44|        74940.5|        501|     4|142051.07|     0|       0|                3|            2|        0|             1|    GOLD|        251|          2|         0.0|      1.0|      0.0|              1.0|           1.0|         0.0|        0.0|(2,[0],[1.0])|    (1,[],[])|         (1,[],[])|(1,[0],[1.0])|(1,[0],[1.0])|(1,[0],[1.0])|[1.0,0.0,0.0,0.0,...|         3|\n",
            "|  15592389|       H?|   France|  Male| 27|       71725.73|        684|     2|134603.88|     0|       0|                3|            1|        1|             1|    GOLD|        342|          2|         0.0|      1.0|      0.0|              1.0|           1.0|         1.0|        0.0|(2,[0],[1.0])|    (1,[],[])|         (1,[],[])|(1,[0],[1.0])|    (1,[],[])|(1,[0],[1.0])|[1.0,0.0,0.0,0.0,...|         3|\n",
            "|  15767821|   Bearce|   France|  Male| 31|       80181.12|        528|     6|102016.72|     0|       0|                3|            2|        0|             0|    GOLD|        264|          2|         0.0|      1.0|      0.0|              0.0|           1.0|         0.0|        0.0|(2,[0],[1.0])|    (1,[],[])|     (1,[0],[1.0])|(1,[0],[1.0])|(1,[0],[1.0])|(1,[0],[1.0])|[1.0,0.0,0.0,1.0,...|         3|\n",
            "|  15737173|  Andrews|    Spain|  Male| 24|       76390.01|        497|     3|      0.0|     0|       0|                3|            2|        1|             0|    GOLD|        249|          2|         2.0|      1.0|      0.0|              0.0|           1.0|         1.0|        0.0|    (2,[],[])|    (1,[],[])|     (1,[0],[1.0])|(1,[0],[1.0])|    (1,[],[])|(1,[0],[1.0])|[0.0,0.0,0.0,1.0,...|         2|\n",
            "|  15632264|      Kay|   France|Female| 34|       26260.98|        476|    10|      0.0|     0|       0|                3|            2|        1|             0|  SILVER|        119|          1|         0.0|      0.0|      0.0|              0.0|           0.0|         1.0|        0.0|(2,[0],[1.0])|(1,[0],[1.0])|     (1,[0],[1.0])|(1,[0],[1.0])|    (1,[],[])|(1,[0],[1.0])|[1.0,0.0,1.0,1.0,...|         2|\n",
            "|  15691483|     Chin|   France|Female| 25|      190857.79|        549|     5|      0.0|     0|       0|                3|            2|        0|             0|PLATINUM|        549|          4|         0.0|      0.0|      0.0|              0.0|           3.0|         0.0|        0.0|(2,[0],[1.0])|(1,[0],[1.0])|     (1,[0],[1.0])|(1,[0],[1.0])|(1,[0],[1.0])|(1,[0],[1.0])|[1.0,0.0,1.0,1.0,...|         1|\n",
            "|  15600882|    Scott|    Spain|Female| 35|       65951.65|        635|     7|      0.0|     0|       0|                2|            2|        1|             1|    GOLD|        318|          2|         2.0|      0.0|      0.0|              1.0|           1.0|         1.0|        0.0|    (2,[],[])|(1,[0],[1.0])|         (1,[],[])|(1,[0],[1.0])|    (1,[],[])|(1,[0],[1.0])|[0.0,0.0,1.0,0.0,...|         2|\n",
            "|  15643966|  Goforth|  Germany|  Male| 45|       64327.26|        616|     3|143129.41|     0|       0|                5|            2|        0|             1|    GOLD|        308|          2|         1.0|      1.0|      0.0|              1.0|           1.0|         0.0|        0.0|(2,[1],[1.0])|    (1,[],[])|         (1,[],[])|(1,[0],[1.0])|(1,[0],[1.0])|(1,[0],[1.0])|[0.0,1.0,0.0,0.0,...|         3|\n",
            "|  15737452|    Romeo|  Germany|  Male| 58|        5097.67|        653|     1|132602.88|     1|       0|                2|            1|        1|             0|  SILVER|        163|          1|         1.0|      1.0|      1.0|              0.0|           0.0|         1.0|        0.0|(2,[1],[1.0])|    (1,[],[])|     (1,[0],[1.0])|    (1,[],[])|    (1,[],[])|(1,[0],[1.0])|[0.0,1.0,0.0,1.0,...|         3|\n",
            "|  15788218|Henderson|    Spain|Female| 24|       14406.41|        549|     9|      0.0|     0|       0|                3|            2|        1|             1|  SILVER|        544|          1|         2.0|      0.0|      0.0|              1.0|           0.0|         1.0|        0.0|    (2,[],[])|(1,[0],[1.0])|         (1,[],[])|(1,[0],[1.0])|    (1,[],[])|(1,[0],[1.0])|[0.0,0.0,1.0,0.0,...|         2|\n",
            "|  15661507|  Muldrow|    Spain|  Male| 45|      158684.81|        587|     6|      0.0|     0|       0|                3|            1|        0|             0|PLATINUM|        732|          4|         2.0|      1.0|      0.0|              0.0|           3.0|         0.0|        0.0|    (2,[],[])|    (1,[],[])|     (1,[0],[1.0])|(1,[0],[1.0])|(1,[0],[1.0])|(1,[0],[1.0])|[0.0,0.0,0.0,1.0,...|         1|\n",
            "|  15568982|      Hao|   France|Female| 24|       54724.03|        726|     6|      0.0|     0|       0|                4|            2|        1|             1|    GOLD|        477|          2|         0.0|      0.0|      0.0|              1.0|           1.0|         1.0|        0.0|(2,[0],[1.0])|(1,[0],[1.0])|         (1,[],[])|(1,[0],[1.0])|    (1,[],[])|(1,[0],[1.0])|[1.0,0.0,1.0,0.0,...|         2|\n",
            "+----------+---------+---------+------+---+---------------+-----------+------+---------+------+--------+-----------------+-------------+---------+--------------+--------+-----------+-----------+------------+---------+---------+-----------------+--------------+------------+-----------+-------------+-------------+------------------+-------------+-------------+-------------+--------------------+----------+\n",
            "only showing top 20 rows\n",
            "\n"
          ]
        }
      ]
    },
    {
      "cell_type": "code",
      "source": [
        "churn_rate = kmeansresult.groupBy(\"prediction\").agg({\"Exited\":\"avg\"}).withColumnRenamed(\"avg(Exited)\", \"ChurnRate\").orderBy(\"ChurnRate\",ascending =False)\n",
        "churn_rate.show()"
      ],
      "metadata": {
        "id": "Gi1hawbPDZWR",
        "colab": {
          "base_uri": "https://localhost:8080/"
        },
        "outputId": "e9e07880-cd3a-4e03-ba65-afae97108c75"
      },
      "execution_count": null,
      "outputs": [
        {
          "output_type": "stream",
          "name": "stdout",
          "text": [
            "+----------+-------------------+\n",
            "|prediction|          ChurnRate|\n",
            "+----------+-------------------+\n",
            "|         0|0.24329501915708812|\n",
            "|         3|0.23752039151712886|\n",
            "|         1| 0.1498147167813658|\n",
            "|         2|0.13845350052246605|\n",
            "+----------+-------------------+\n",
            "\n"
          ]
        }
      ]
    },
    {
      "cell_type": "code",
      "source": [
        "filtered_data = kmeansresult.filter((kmeansresult['prediction']==0) | (kmeansresult['prediction']==3)).select('prediction','EstimatedSalary','Age','Tenure','Complain')\n",
        "reasons = filtered_data.groupBy('prediction').agg({\"EstimatedSalary\":\"avg\",\"Age\":\"avg\",\"Tenure\":\"avg\",\"Complain\":\"avg\"})\n",
        "reasons.show()"
      ],
      "metadata": {
        "id": "PO8vWaF6Dasa",
        "colab": {
          "base_uri": "https://localhost:8080/"
        },
        "outputId": "4def28f7-572b-4a97-ad21-54c6f89f4b15"
      },
      "execution_count": null,
      "outputs": [
        {
          "output_type": "stream",
          "name": "stdout",
          "text": [
            "+----------+-----------------+-------------------+--------------------+------------------+\n",
            "|prediction|      avg(Tenure)|      avg(Complain)|avg(EstimatedSalary)|          avg(Age)|\n",
            "+----------+-----------------+-------------------+--------------------+------------------+\n",
            "|         3|4.961500815660685|0.23784665579119085|   50469.45139641121|39.405546492659056|\n",
            "|         0|5.002554278416348|0.24489144316730524|  149729.90698595162| 38.98371647509578|\n",
            "+----------+-----------------+-------------------+--------------------+------------------+\n",
            "\n"
          ]
        }
      ]
    },
    {
      "cell_type": "markdown",
      "source": [
        "## Inference:\n",
        "From this above results we can see that, cluster 0 and cluster 3 are having higher churn rate and after looking at the features like Tenure, EstimatedSalary, Age, and Complain the similarities between these features is evidently visible except the salary feature. It is due to this feature we are able to distinguish between these clusters"
      ],
      "metadata": {
        "id": "fw_kBKzMDbfy"
      }
    },
    {
      "cell_type": "markdown",
      "source": [
        "# Machine Learning Models - Predicting which customers are likely to exit the bank   \n",
        "\n",
        "Now to predict which customers are more likely to exit the bank, we have used three machine learning models logistic classifier, decision tree classifier and random forest models. Our target variable here is Exited and rest others are our predicters. Firstly, we took all the categorical features and converted them into numerical values using string indexing and one-hot encoding. Then we fused all the features using the Vector Assembler and then used the ML models to predict our target variable that surprisingly resulted in very high accuracy."
      ],
      "metadata": {
        "id": "vb-qL6sP6Qqd"
      }
    },
    {
      "cell_type": "code",
      "source": [
        "str_obj=StringIndexer(inputCols=[\"Geography\",\"Gender\",\"Exited\",\"IsActiveMember\",\"CardTypeImp\",\"HasCrCard\",\"Complain\"],\n",
        "                      outputCols=[\"newGeography\",\"newGender\",\"newExited\",\"newIsActiveMember\",\"newCardTypeImp\",\"newHasCrCard\",\"newComplain\"], stringOrderType=\"alphabetAsc\")\n",
        "\n",
        "\n",
        "onehot_obj=OneHotEncoder(inputCols=[\"newGeography\",\"newGender\",\"newIsActiveMember\",\"newCardTypeImp\",\"newHasCrCard\",\"newComplain\"],\n",
        "                         outputCols=[\"newGeography2\",\"newGender2\",\"newIsActiveMember2\",\"newCardTypeImp2\",\"newHasCrCard2\",\"newComplain2\"])\n",
        "\n",
        "vec_obj=VectorAssembler(inputCols=[\"newGeography2\",\"newGender2\",\"newIsActiveMember2\",\"newCardTypeImp2\",\"newHasCrCard2\",\n",
        "                                   \"newComplain2\",\"Age\",\"EstimatedSalary\",\"CreditScore\",\"Tenure\",\"Balance\",\"SatisfactionScore\",\"NumOfProducts\",\"PointEarned\"],\n",
        "                        outputCol=\"all_features\")"
      ],
      "metadata": {
        "id": "TadmD1Gv6SoH"
      },
      "execution_count": null,
      "outputs": []
    },
    {
      "cell_type": "markdown",
      "source": [
        "**Logistic Regression Model**"
      ],
      "metadata": {
        "id": "zSYxCBUE6rzq"
      }
    },
    {
      "cell_type": "code",
      "source": [
        "#Creating a logistic regression model\n",
        "from pyspark.ml.classification import LogisticRegression\n",
        "lr = LogisticRegression(featuresCol='all_features', labelCol=\"newExited\")\n",
        "\n",
        "#Creating a pipeline\n",
        "lrpipeline=Pipeline(stages=[str_obj,onehot_obj,vec_obj,lr])\n",
        "\n",
        "#Splitting the dataset in training and test\n",
        "training, test=master_data.randomSplit([0.7,0.3],seed=123)\n",
        "\n",
        "#Training the model\n",
        "lrmodel=lrpipeline.fit(training)\n",
        "\n",
        "#Predicting the results on test dataset\n",
        "lrresults=lrmodel.transform(test)\n",
        "\n",
        "#Displaying the results\n",
        "lrresults.show(2, truncate=False)"
      ],
      "metadata": {
        "colab": {
          "base_uri": "https://localhost:8080/"
        },
        "id": "VCj_99Ns6aEw",
        "outputId": "ccfd5ea2-abea-41af-c1fc-6a241d99840c"
      },
      "execution_count": null,
      "outputs": [
        {
          "output_type": "stream",
          "name": "stdout",
          "text": [
            "+----------+--------+---------+------+---+---------------+-----------+------+--------+------+--------+-----------------+-------------+---------+--------------+--------+-----------+-----------+------------+---------+---------+-----------------+--------------+------------+-----------+-------------+----------+------------------+---------------+-------------+-------------+------------------------------------------------------------------------------------+----------------------------------------+-----------------------------------------+----------+\n",
            "|CustomerId|Surname |Geography|Gender|Age|EstimatedSalary|CreditScore|Tenure|Balance |Exited|Complain|SatisfactionScore|NumOfProducts|HasCrCard|IsActiveMember|CardType|PointEarned|CardTypeImp|newGeography|newGender|newExited|newIsActiveMember|newCardTypeImp|newHasCrCard|newComplain|newGeography2|newGender2|newIsActiveMember2|newCardTypeImp2|newHasCrCard2|newComplain2 |all_features                                                                        |rawPrediction                           |probability                              |prediction|\n",
            "+----------+--------+---------+------+---+---------------+-----------+------+--------+------+--------+-----------------+-------------+---------+--------------+--------+-----------+-----------+------------+---------+---------+-----------------+--------------+------------+-----------+-------------+----------+------------------+---------------+-------------+-------------+------------------------------------------------------------------------------------+----------------------------------------+-----------------------------------------+----------+\n",
            "|15565714  |Cattaneo|France   |Male  |47 |96517.97       |601        |1     |64430.06|0     |0       |5                |2            |0        |1             |SILVER  |308        |1          |0.0         |1.0      |0.0      |1.0              |0.0           |0.0         |0.0        |(2,[0],[1.0])|(1,[],[]) |(1,[],[])         |(3,[0],[1.0])  |(1,[0],[1.0])|(1,[0],[1.0])|[1.0,0.0,0.0,0.0,1.0,0.0,0.0,1.0,1.0,47.0,96517.97,601.0,1.0,64430.06,5.0,2.0,308.0]|[8.25898586629393,-8.25898586629393]    |[0.9997411455838784,2.588544161216122E-4]|0.0       |\n",
            "|15565878  |Bates   |Spain    |Male  |29 |197963.46      |631        |3     |0.0     |0     |0       |3                |2            |1        |1             |DIAMOND |463        |3          |2.0         |1.0      |0.0      |1.0              |2.0           |1.0         |0.0        |(2,[],[])    |(1,[],[]) |(1,[],[])         |(3,[2],[1.0])  |(1,[],[])    |(1,[0],[1.0])|(17,[6,8,9,10,11,12,14,15,16],[1.0,1.0,29.0,197963.46,631.0,3.0,3.0,2.0,463.0])     |[10.107172411971707,-10.107172411971707]|[0.9999592156935796,4.078430642040498E-5]|0.0       |\n",
            "+----------+--------+---------+------+---+---------------+-----------+------+--------+------+--------+-----------------+-------------+---------+--------------+--------+-----------+-----------+------------+---------+---------+-----------------+--------------+------------+-----------+-------------+----------+------------------+---------------+-------------+-------------+------------------------------------------------------------------------------------+----------------------------------------+-----------------------------------------+----------+\n",
            "only showing top 2 rows\n",
            "\n"
          ]
        }
      ]
    },
    {
      "cell_type": "code",
      "source": [
        "#Determining the accuracy\n",
        "def calc_accuracy(results):\n",
        "  results=results.withColumn(\"compare\",results['newExited']-results['prediction'])\n",
        "  correct=results.filter(results['compare']==0).count()\n",
        "  incorrect=results.filter(results['compare']!=0).count()\n",
        "  return(correct/(correct+incorrect))\n",
        "\n",
        "print(\"Accuracy for logistic classifier model is: \",calc_accuracy(lrresults))"
      ],
      "metadata": {
        "colab": {
          "base_uri": "https://localhost:8080/"
        },
        "id": "hLhtcGuC6db8",
        "outputId": "f1b75aa6-c11b-42a6-d4aa-5ba1febc0d4c"
      },
      "execution_count": null,
      "outputs": [
        {
          "output_type": "stream",
          "name": "stdout",
          "text": [
            "Accuracy for logistic classifier model is:  0.9986953685583823\n"
          ]
        }
      ]
    },
    {
      "cell_type": "markdown",
      "source": [
        "**Decision Tree Model**"
      ],
      "metadata": {
        "id": "AOZfpXVk66do"
      }
    },
    {
      "cell_type": "code",
      "source": [
        "from pyspark.ml.classification import DecisionTreeClassifier\n",
        "tree=DecisionTreeClassifier(featuresCol='all_features', labelCol=\"newExited\")\n",
        "treepipeline=Pipeline(stages=[str_obj,onehot_obj,vec_obj,tree])\n",
        "training, test=master_data.randomSplit([0.7,0.3], seed=123)\n",
        "treemodel=treepipeline.fit(training)\n",
        "treeresults=treemodel.transform(test)\n",
        "treeresults.show(2, truncate=False)\n",
        "\n",
        "print(\"Accuracy for Decision Tree classifier model is: \",calc_accuracy(treeresults))"
      ],
      "metadata": {
        "colab": {
          "base_uri": "https://localhost:8080/"
        },
        "id": "4jJrwN7j65bm",
        "outputId": "fad6fa55-449e-45b8-ea1b-aa6b24d4b466"
      },
      "execution_count": null,
      "outputs": [
        {
          "output_type": "stream",
          "name": "stdout",
          "text": [
            "+----------+--------+---------+------+---+---------------+-----------+------+--------+------+--------+-----------------+-------------+---------+--------------+--------+-----------+-----------+------------+---------+---------+-----------------+--------------+------------+-----------+-------------+----------+------------------+---------------+-------------+-------------+------------------------------------------------------------------------------------+-------------+------------------------------------------+----------+\n",
            "|CustomerId|Surname |Geography|Gender|Age|EstimatedSalary|CreditScore|Tenure|Balance |Exited|Complain|SatisfactionScore|NumOfProducts|HasCrCard|IsActiveMember|CardType|PointEarned|CardTypeImp|newGeography|newGender|newExited|newIsActiveMember|newCardTypeImp|newHasCrCard|newComplain|newGeography2|newGender2|newIsActiveMember2|newCardTypeImp2|newHasCrCard2|newComplain2 |all_features                                                                        |rawPrediction|probability                               |prediction|\n",
            "+----------+--------+---------+------+---+---------------+-----------+------+--------+------+--------+-----------------+-------------+---------+--------------+--------+-----------+-----------+------------+---------+---------+-----------------+--------------+------------+-----------+-------------+----------+------------------+---------------+-------------+-------------+------------------------------------------------------------------------------------+-------------+------------------------------------------+----------+\n",
            "|15565714  |Cattaneo|France   |Male  |47 |96517.97       |601        |1     |64430.06|0     |0       |5                |2            |0        |1             |SILVER  |308        |1          |0.0         |1.0      |0.0      |1.0              |0.0           |0.0         |0.0        |(2,[0],[1.0])|(1,[],[]) |(1,[],[])         |(3,[0],[1.0])  |(1,[0],[1.0])|(1,[0],[1.0])|[1.0,0.0,0.0,0.0,1.0,0.0,0.0,1.0,1.0,47.0,96517.97,601.0,1.0,64430.06,5.0,2.0,308.0]|[5196.0,1.0] |[0.9998075812969021,1.9241870309794111E-4]|0.0       |\n",
            "|15565878  |Bates   |Spain    |Male  |29 |197963.46      |631        |3     |0.0     |0     |0       |3                |2            |1        |1             |DIAMOND |463        |3          |2.0         |1.0      |0.0      |1.0              |2.0           |1.0         |0.0        |(2,[],[])    |(1,[],[]) |(1,[],[])         |(3,[2],[1.0])  |(1,[],[])    |(1,[0],[1.0])|(17,[6,8,9,10,11,12,14,15,16],[1.0,1.0,29.0,197963.46,631.0,3.0,3.0,2.0,463.0])     |[5196.0,1.0] |[0.9998075812969021,1.9241870309794111E-4]|0.0       |\n",
            "+----------+--------+---------+------+---+---------------+-----------+------+--------+------+--------+-----------------+-------------+---------+--------------+--------+-----------+-----------+------------+---------+---------+-----------------+--------------+------------+-----------+-------------+----------+------------------+---------------+-------------+-------------+------------------------------------------------------------------------------------+-------------+------------------------------------------+----------+\n",
            "only showing top 2 rows\n",
            "\n",
            "Accuracy for Decision Tree classifier model is:  0.9973907371167645\n"
          ]
        }
      ]
    },
    {
      "cell_type": "markdown",
      "source": [
        "**Random Forest Tree Model**"
      ],
      "metadata": {
        "id": "BiqtfkUB7EaG"
      }
    },
    {
      "cell_type": "code",
      "source": [
        "from pyspark.ml.classification import RandomForestClassifier\n",
        "forest=RandomForestClassifier(featuresCol='all_features', labelCol=\"newSatisfaction\")\n",
        "forestpipeline=Pipeline(stages=[str_obj,onehot_obj,vec_obj,tree])\n",
        "training, test=master_data.randomSplit([0.8,0.2], seed=123)\n",
        "forestmodel=forestpipeline.fit(training)\n",
        "forestresults=forestmodel.transform(test)\n",
        "forestresults.show(2, truncate=False)\n",
        "\n",
        "print(\"Accuracy for Decision Tree classifier model is: \",calc_accuracy(forestresults))"
      ],
      "metadata": {
        "id": "P3i77-5J7C4X",
        "colab": {
          "base_uri": "https://localhost:8080/"
        },
        "outputId": "389457aa-1072-4731-acb5-2356e54c5dcb"
      },
      "execution_count": null,
      "outputs": [
        {
          "output_type": "stream",
          "name": "stdout",
          "text": [
            "+----------+--------+---------+------+---+---------------+-----------+------+--------+------+--------+-----------------+-------------+---------+--------------+--------+-----------+-----------+------------+---------+---------+-----------------+--------------+------------+-----------+-------------+----------+------------------+---------------+-------------+-------------+------------------------------------------------------------------------------------+-------------+------------------------------------------+----------+\n",
            "|CustomerId|Surname |Geography|Gender|Age|EstimatedSalary|CreditScore|Tenure|Balance |Exited|Complain|SatisfactionScore|NumOfProducts|HasCrCard|IsActiveMember|CardType|PointEarned|CardTypeImp|newGeography|newGender|newExited|newIsActiveMember|newCardTypeImp|newHasCrCard|newComplain|newGeography2|newGender2|newIsActiveMember2|newCardTypeImp2|newHasCrCard2|newComplain2 |all_features                                                                        |rawPrediction|probability                               |prediction|\n",
            "+----------+--------+---------+------+---+---------------+-----------+------+--------+------+--------+-----------------+-------------+---------+--------------+--------+-----------+-----------+------------+---------+---------+-----------------+--------------+------------+-----------+-------------+----------+------------------+---------------+-------------+-------------+------------------------------------------------------------------------------------+-------------+------------------------------------------+----------+\n",
            "|15565714  |Cattaneo|France   |Male  |47 |96517.97       |601        |1     |64430.06|0     |0       |5                |2            |0        |1             |SILVER  |308        |1          |0.0         |1.0      |0.0      |1.0              |0.0           |0.0         |0.0        |(2,[0],[1.0])|(1,[],[]) |(1,[],[])         |(3,[0],[1.0])  |(1,[0],[1.0])|(1,[0],[1.0])|[1.0,0.0,0.0,0.0,1.0,0.0,0.0,1.0,1.0,47.0,96517.97,601.0,1.0,64430.06,5.0,2.0,308.0]|[5986.0,1.0] |[0.9998329714381159,1.6702856188408218E-4]|0.0       |\n",
            "|15565878  |Bates   |Spain    |Male  |29 |197963.46      |631        |3     |0.0     |0     |0       |3                |2            |1        |1             |DIAMOND |463        |3          |2.0         |1.0      |0.0      |1.0              |2.0           |1.0         |0.0        |(2,[],[])    |(1,[],[]) |(1,[],[])         |(3,[2],[1.0])  |(1,[],[])    |(1,[0],[1.0])|(17,[6,8,9,10,11,12,14,15,16],[1.0,1.0,29.0,197963.46,631.0,3.0,3.0,2.0,463.0])     |[5986.0,1.0] |[0.9998329714381159,1.6702856188408218E-4]|0.0       |\n",
            "+----------+--------+---------+------+---+---------------+-----------+------+--------+------+--------+-----------------+-------------+---------+--------------+--------+-----------+-----------+------------+---------+---------+-----------------+--------------+------------+-----------+-------------+----------+------------------+---------------+-------------+-------------+------------------------------------------------------------------------------------+-------------+------------------------------------------+----------+\n",
            "only showing top 2 rows\n",
            "\n",
            "Accuracy for Decision Tree classifier model is:  0.9970472440944882\n"
          ]
        }
      ]
    },
    {
      "cell_type": "markdown",
      "source": [
        "As we saw very high accuracy, we decided to check the bias and variance in our data. After plotting the below plot we found that features like - \"NumofProducts\",\"age\" and \"complain\" are the highly influencing features for the target variable."
      ],
      "metadata": {
        "id": "xplbtdC5IhYo"
      }
    },
    {
      "cell_type": "code",
      "source": [
        "from pyspark.ml.feature import VectorAssembler\n",
        "from pyspark.ml.classification import RandomForestClassifier\n",
        "import matplotlib.pyplot as plt\n",
        "\n",
        "# Assuming you have a Spark DataFrame named 'df' containing your data\n",
        "# Assuming the target variable is named 'Exited' and other features are your independent variables\n",
        "\n",
        "# Vector Assembler to combine features into a single vector\n",
        "assembler = VectorAssembler(inputCols=[\"CreditScore\", \"Age\", \"Tenure\", \"Balance\",\"Complain\",\"NumOfProducts\", \"HasCrCard\", \"IsActiveMember\", \"EstimatedSalary\"], outputCol=\"features\")\n",
        "df_assembled = assembler.transform(master_data)\n",
        "\n",
        "# Splitting data into training and testing sets\n",
        "(train_data, test_data) = df_assembled.randomSplit([0.8, 0.2], seed=42)\n",
        "\n",
        "# Random Forest Classifier\n",
        "rf = RandomForestClassifier(labelCol=\"Exited\", featuresCol=\"features\", numTrees=500, maxDepth=10)\n",
        "model_rf = rf.fit(train_data)\n",
        "\n",
        "# Extracting feature importances\n",
        "importances = model_rf.featureImportances.toArray()\n",
        "\n",
        "# Creating lists for feature names and importances\n",
        "feature_names = [\"CreditScore\", \"Age\", \"Tenure\", \"Balance\", \"NumOfProducts\",\"Complain\", \"HasCrCard\", \"IsActiveMember\", \"EstimatedSalary\"]\n",
        "\n",
        "# Plotting feature importances\n",
        "plt.figure(figsize=(10, 6))\n",
        "plt.barh(feature_names, importances)\n",
        "plt.xlabel('Importance')\n",
        "plt.title('Feature Importances')\n",
        "plt.show()\n"
      ],
      "metadata": {
        "colab": {
          "base_uri": "https://localhost:8080/",
          "height": 564
        },
        "id": "q4O1DgpJzYFx",
        "outputId": "ec48e63d-33dd-454f-dfbc-46ef4bf2a407"
      },
      "execution_count": null,
      "outputs": [
        {
          "output_type": "display_data",
          "data": {
            "text/plain": [
              "<Figure size 1000x600 with 1 Axes>"
            ],
            "image/png": "[encoded data removed]"
          },
          "metadata": {}
        }
      ]
    },
    {
      "cell_type": "markdown",
      "source": [
        "\n",
        "**NumOfProducts:** \"NumOfProducts\" feature being the most important feature indicates that the number of products or services a customer is subscribed to is a strong predictor of churn. Customers with a higher number of products may churn for various reasons, such as dissatisfaction with specific products, excessive fees, or lack of personalized service. On the other hand, customers with fewer products may churn due to limited engagement with the bank. Analyzing the relationship between the number of products and churn can provide insights into cross-selling strategies, product bundling, and personalized recommendations to enhance customer retention.\n",
        "\n",
        "\n",
        "**Age:** The \"Age\" feature being the second most important feature suggests that customer age plays a significant role in predicting churn. Younger or older customers may exhibit different churn behaviors. For example, younger customers may be more prone to switching banks due to life events such as relocation or changing financial priorities, while older customers may churn due to retirement or changes in their financial needs. Understanding these age-related churn patterns can help tailor retention strategies targeted towards specific age groups.\n",
        "\n",
        "**Complain:** The importance of the \"Complain\" feature indicates whether\n",
        "customer complaints have a significant impact on predicting churn. A higher importance suggests that customers who have previously raised complaints are more likely to churn. This could imply that addressing customer complaints effectively may be crucial in retaining customers and reducing churn rates. Identifying the root causes of complaints and taking proactive measures to address them could potentially improve customer satisfaction and loyalty.\n",
        "\n",
        "\n",
        "\n",
        "\n",
        "\n"
      ],
      "metadata": {
        "id": "j_ETAgwv5ZjD"
      }
    },
    {
      "cell_type": "code",
      "source": [
        "from pyspark.ml.feature import StringIndexer\n",
        "str_obj=StringIndexer(inputCols=[\"Geography\",\"Gender\",\"Exited\",\"IsActiveMember\",\"CardTypeImp\",\"HasCrCard\"],\n",
        "                      outputCols=[\"newGeography\",\"newGender\",\"newExited\",\"newIsActiveMember\",\"newCardTypeImp\",\"newHasCrCard\"], stringOrderType=\"alphabetAsc\")\n",
        "\n",
        "\n",
        "from pyspark.ml.feature import OneHotEncoder\n",
        "onehot_obj=OneHotEncoder(inputCols=[\"newGeography\",\"newGender\",\"newIsActiveMember\",\"newCardTypeImp\",\"newHasCrCard\"],\n",
        "                         outputCols=[\"newGeography2\",\"newGender2\",\"newIsActiveMember2\",\"newCardTypeImp2\",\"newHasCrCard2\"])\n",
        "\n",
        "from  pyspark.ml.feature import VectorAssembler\n",
        "vec_obj=VectorAssembler(inputCols=[\"newGeography2\",\"newGender2\",\"newIsActiveMember2\",\"newCardTypeImp2\",\"newHasCrCard2\",\n",
        "                                   \"EstimatedSalary\",\"CreditScore\",\"Tenure\",\"Balance\",\"SatisfactionScore\",\"PointEarned\"],\n",
        "                        outputCol=\"all_features\")"
      ],
      "metadata": {
        "id": "a4mdS7lSJggS"
      },
      "execution_count": null,
      "outputs": []
    },
    {
      "cell_type": "markdown",
      "source": [
        "**Logistic Regression**"
      ],
      "metadata": {
        "id": "Fl8t47gIkdZf"
      }
    },
    {
      "cell_type": "code",
      "source": [
        "#Creating a logistic regression model\n",
        "from pyspark.ml.classification import LogisticRegression\n",
        "lr = LogisticRegression(featuresCol='all_features', labelCol=\"newExited\")\n",
        "\n",
        "#Creating a pipeline\n",
        "from pyspark.ml import Pipeline\n",
        "lrpipeline=Pipeline(stages=[str_obj,onehot_obj,vec_obj,lr])\n",
        "\n",
        "#Splitting the dataset in training and test\n",
        "training, test=master_data.randomSplit([0.7,0.3],seed=123)\n",
        "#Training the model\n",
        "lrmodel=lrpipeline.fit(training)\n",
        "\n",
        "#Predicting the results on test dataset\n",
        "lrresults=lrmodel.transform(test)\n",
        "\n",
        "#Displaying the results\n",
        "lrresults.show(2, truncate=False)\n",
        "\n",
        "#Determining the accuracy\n",
        "print(\"Accuracy for logistic classifier model is: \",calc_accuracy(lrresults))"
      ],
      "metadata": {
        "id": "u24gR5NhJlPx",
        "colab": {
          "base_uri": "https://localhost:8080/"
        },
        "outputId": "8992c2e2-0263-483a-d0e9-c5d54b77affa"
      },
      "execution_count": null,
      "outputs": [
        {
          "output_type": "stream",
          "name": "stdout",
          "text": [
            "+----------+--------+---------+------+---+---------------+-----------+------+--------+------+--------+-----------------+-------------+---------+--------------+--------+-----------+-----------+------------+---------+---------+-----------------+--------------+------------+-------------+----------+------------------+---------------+-------------+-----------------------------------------------------------------------+----------------------------------------+----------------------------------------+----------+\n",
            "|CustomerId|Surname |Geography|Gender|Age|EstimatedSalary|CreditScore|Tenure|Balance |Exited|Complain|SatisfactionScore|NumOfProducts|HasCrCard|IsActiveMember|CardType|PointEarned|CardTypeImp|newGeography|newGender|newExited|newIsActiveMember|newCardTypeImp|newHasCrCard|newGeography2|newGender2|newIsActiveMember2|newCardTypeImp2|newHasCrCard2|all_features                                                           |rawPrediction                           |probability                             |prediction|\n",
            "+----------+--------+---------+------+---+---------------+-----------+------+--------+------+--------+-----------------+-------------+---------+--------------+--------+-----------+-----------+------------+---------+---------+-----------------+--------------+------------+-------------+----------+------------------+---------------+-------------+-----------------------------------------------------------------------+----------------------------------------+----------------------------------------+----------+\n",
            "|15565714  |Cattaneo|France   |Male  |47 |96517.97       |601        |1     |64430.06|0     |0       |5                |2            |0        |1             |SILVER  |308        |1          |0.0         |1.0      |0.0      |1.0              |0.0           |0.0         |(2,[0],[1.0])|(1,[],[]) |(1,[],[])         |(3,[0],[1.0])  |(1,[0],[1.0])|[1.0,0.0,0.0,0.0,1.0,0.0,0.0,1.0,96517.97,601.0,1.0,64430.06,5.0,308.0]|[2.239894141541498,-2.239894141541498]  |[0.9037752526442191,0.0962247473557809] |0.0       |\n",
            "|15565878  |Bates   |Spain    |Male  |29 |197963.46      |631        |3     |0.0     |0     |0       |3                |2            |1        |1             |DIAMOND |463        |3          |2.0         |1.0      |0.0      |1.0              |2.0           |1.0         |(2,[],[])    |(1,[],[]) |(1,[],[])         |(3,[2],[1.0])  |(1,[],[])    |(14,[6,8,9,10,12,13],[1.0,197963.46,631.0,3.0,3.0,463.0])              |[2.3482499661780007,-2.3482499661780007]|[0.9127950249958365,0.08720497500416347]|0.0       |\n",
            "+----------+--------+---------+------+---+---------------+-----------+------+--------+------+--------+-----------------+-------------+---------+--------------+--------+-----------+-----------+------------+---------+---------+-----------------+--------------+------------+-------------+----------+------------------+---------------+-------------+-----------------------------------------------------------------------+----------------------------------------+----------------------------------------+----------+\n",
            "only showing top 2 rows\n",
            "\n",
            "Accuracy for logistic classifier model is:  0.7893020221787345\n"
          ]
        }
      ]
    },
    {
      "cell_type": "markdown",
      "source": [
        "**Decision Tree**"
      ],
      "metadata": {
        "id": "0F_mAH4AkazW"
      }
    },
    {
      "cell_type": "code",
      "source": [
        "tree=DecisionTreeClassifier(featuresCol='all_features', labelCol=\"newExited\")\n",
        "treepipeline=Pipeline(stages=[str_obj,onehot_obj,vec_obj,tree])\n",
        "training, test=master_data.randomSplit([0.7,0.3], seed=123)\n",
        "treemodel=treepipeline.fit(training)\n",
        "treeresults=treemodel.transform(test)\n",
        "treeresults.show(2, truncate=False)\n",
        "\n",
        "print(\"Accuracy for Decision Tree classifier model is: \",calc_accuracy(treeresults))"
      ],
      "metadata": {
        "colab": {
          "base_uri": "https://localhost:8080/"
        },
        "id": "hfr8iPElkXE4",
        "outputId": "7dc2603e-72a8-4158-c5a3-e25b2df9ff09"
      },
      "execution_count": null,
      "outputs": [
        {
          "output_type": "stream",
          "name": "stdout",
          "text": [
            "+----------+--------+---------+------+---+---------------+-----------+------+--------+------+--------+-----------------+-------------+---------+--------------+--------+-----------+-----------+------------+---------+---------+-----------------+--------------+------------+-------------+----------+------------------+---------------+-------------+-----------------------------------------------------------------------+--------------+----------------------------------------+----------+\n",
            "|CustomerId|Surname |Geography|Gender|Age|EstimatedSalary|CreditScore|Tenure|Balance |Exited|Complain|SatisfactionScore|NumOfProducts|HasCrCard|IsActiveMember|CardType|PointEarned|CardTypeImp|newGeography|newGender|newExited|newIsActiveMember|newCardTypeImp|newHasCrCard|newGeography2|newGender2|newIsActiveMember2|newCardTypeImp2|newHasCrCard2|all_features                                                           |rawPrediction |probability                             |prediction|\n",
            "+----------+--------+---------+------+---+---------------+-----------+------+--------+------+--------+-----------------+-------------+---------+--------------+--------+-----------+-----------+------------+---------+---------+-----------------+--------------+------------+-------------+----------+------------------+---------------+-------------+-----------------------------------------------------------------------+--------------+----------------------------------------+----------+\n",
            "|15565714  |Cattaneo|France   |Male  |47 |96517.97       |601        |1     |64430.06|0     |0       |5                |2            |0        |1             |SILVER  |308        |1          |0.0         |1.0      |0.0      |1.0              |0.0           |0.0         |(2,[0],[1.0])|(1,[],[]) |(1,[],[])         |(3,[0],[1.0])  |(1,[0],[1.0])|[1.0,0.0,0.0,0.0,1.0,0.0,0.0,1.0,96517.97,601.0,1.0,64430.06,5.0,308.0]|[2425.0,300.0]|[0.8899082568807339,0.11009174311926606]|0.0       |\n",
            "|15565878  |Bates   |Spain    |Male  |29 |197963.46      |631        |3     |0.0     |0     |0       |3                |2            |1        |1             |DIAMOND |463        |3          |2.0         |1.0      |0.0      |1.0              |2.0           |1.0         |(2,[],[])    |(1,[],[]) |(1,[],[])         |(3,[2],[1.0])  |(1,[],[])    |(14,[6,8,9,10,12,13],[1.0,197963.46,631.0,3.0,3.0,463.0])              |[2425.0,300.0]|[0.8899082568807339,0.11009174311926606]|0.0       |\n",
            "+----------+--------+---------+------+---+---------------+-----------+------+--------+------+--------+-----------------+-------------+---------+--------------+--------+-----------+-----------+------------+---------+---------+-----------------+--------------+------------+-------------+----------+------------------+---------------+-------------+-----------------------------------------------------------------------+--------------+----------------------------------------+----------+\n",
            "only showing top 2 rows\n",
            "\n",
            "Accuracy for Decision Tree classifier model is:  0.7935420743639922\n"
          ]
        }
      ]
    },
    {
      "cell_type": "markdown",
      "source": [
        "**Random Forest Classifier**"
      ],
      "metadata": {
        "id": "uZoQsz0Okg81"
      }
    },
    {
      "cell_type": "code",
      "source": [
        "forest=RandomForestClassifier(featuresCol='all_features', labelCol=\"newExited\")\n",
        "forestpipeline=Pipeline(stages=[str_obj,onehot_obj,vec_obj,forest])\n",
        "training, test=master_data.randomSplit([0.7,0.3], seed=123)\n",
        "forestmodel=forestpipeline.fit(training)\n",
        "forestresults=forestmodel.transform(test)\n",
        "forestresults.show(2, truncate=False)\n",
        "\n",
        "print(\"Accuracy for Random Forest classifier model is: \",calc_accuracy(forestresults))"
      ],
      "metadata": {
        "colab": {
          "base_uri": "https://localhost:8080/"
        },
        "id": "iNj0828ykjFn",
        "outputId": "e3413aab-f12b-4a65-baf7-3b4298ce0d06"
      },
      "execution_count": null,
      "outputs": [
        {
          "output_type": "stream",
          "name": "stdout",
          "text": [
            "+----------+--------+---------+------+---+---------------+-----------+------+--------+------+--------+-----------------+-------------+---------+--------------+--------+-----------+-----------+------------+---------+---------+-----------------+--------------+------------+-------------+----------+------------------+---------------+-------------+-----------------------------------------------------------------------+--------------------------------------+----------------------------------------+----------+\n",
            "|CustomerId|Surname |Geography|Gender|Age|EstimatedSalary|CreditScore|Tenure|Balance |Exited|Complain|SatisfactionScore|NumOfProducts|HasCrCard|IsActiveMember|CardType|PointEarned|CardTypeImp|newGeography|newGender|newExited|newIsActiveMember|newCardTypeImp|newHasCrCard|newGeography2|newGender2|newIsActiveMember2|newCardTypeImp2|newHasCrCard2|all_features                                                           |rawPrediction                         |probability                             |prediction|\n",
            "+----------+--------+---------+------+---+---------------+-----------+------+--------+------+--------+-----------------+-------------+---------+--------------+--------+-----------+-----------+------------+---------+---------+-----------------+--------------+------------+-------------+----------+------------------+---------------+-------------+-----------------------------------------------------------------------+--------------------------------------+----------------------------------------+----------+\n",
            "|15565714  |Cattaneo|France   |Male  |47 |96517.97       |601        |1     |64430.06|0     |0       |5                |2            |0        |1             |SILVER  |308        |1          |0.0         |1.0      |0.0      |1.0              |0.0           |0.0         |(2,[0],[1.0])|(1,[],[]) |(1,[],[])         |(3,[0],[1.0])  |(1,[0],[1.0])|[1.0,0.0,0.0,0.0,1.0,0.0,0.0,1.0,96517.97,601.0,1.0,64430.06,5.0,308.0]|[17.1188817322436,2.8811182677563965] |[0.8559440866121802,0.14405591338781984]|0.0       |\n",
            "|15565878  |Bates   |Spain    |Male  |29 |197963.46      |631        |3     |0.0     |0     |0       |3                |2            |1        |1             |DIAMOND |463        |3          |2.0         |1.0      |0.0      |1.0              |2.0           |1.0         |(2,[],[])    |(1,[],[]) |(1,[],[])         |(3,[2],[1.0])  |(1,[],[])    |(14,[6,8,9,10,12,13],[1.0,197963.46,631.0,3.0,3.0,463.0])              |[17.19483778223214,2.8051622177678572]|[0.8597418891116071,0.14025811088839288]|0.0       |\n",
            "+----------+--------+---------+------+---+---------------+-----------+------+--------+------+--------+-----------------+-------------+---------+--------------+--------+-----------+-----------+------------+---------+---------+-----------------+--------------+------------+-------------+----------+------------------+---------------+-------------+-----------------------------------------------------------------------+--------------------------------------+----------------------------------------+----------+\n",
            "only showing top 2 rows\n",
            "\n",
            "Accuracy for Random Forest classifier model is:  0.79191128506197\n"
          ]
        }
      ]
    },
    {
      "cell_type": "markdown",
      "source": [
        "# **Conclusion**\n",
        "\n",
        "Our comprehensive analysis for Oasis Bank reveals key insights into customer churn, emphasizing the importance of targeted strategies to enhance customer retention. Through advanced statistical and machine learning methodologies, we identified significant factors influencing churn, including geographical trends, product engagement levels, and customer demographics. Notably, regions like Germany and France exhibit higher churn rates, while specific customer segments, particularly those with multiple product holdings or those expressing dissatisfaction through complaints, are more prone to churn. Our predictive models further distilled these insights, showcasing the paramount importance of product variety, customer age, and feedback responsiveness in forecasting churn likelihood.\n",
        "\n",
        "## Strategic Recommendations:\n",
        "**1. Customized Engagement Programs:** Implement AI-driven analytics to create personalized customer engagement programs. By analyzing individual customer behavior, preferences, and feedback, develop customized offers, communication, and support that resonate with each customer segment's unique needs, especially targeting high-risk clusters identified in our analysis.\n",
        "\n",
        "**2. Dynamic Product Alignment:** Develop a dynamic product recommendation system that adjusts offerings based on customer life stages and financial behavior. For instance, younger customers could be engaged with tech-savvy financial tools or investment education, while older segments might appreciate more conservative investment advice or retirement planning services.\n",
        "\n",
        "**3. Proactive Complaint Resolution Mechanism:** Establish an AI-enhanced monitoring system to identify and address customer complaints before they escalate. Utilize sentiment analysis on customer interactions to detect dissatisfaction and trigger immediate, tailored interventions to resolve issues and communicate the actions taken to the customer proactively.\n",
        "\n",
        "**4. Geo-Specific Retention Campaigns:** Launch targeted retention campaigns in high-churn regions like Germany and France, leveraging cultural insights and regional customer behavior data. For example, in Germany, where churn and financial engagement are high, introduce exclusive financial advisory services or premium customer support to enhance value perception.\n",
        "\n",
        "**5. Cross-Functional Customer Success Teams:** Create cross-functional teams combining members from sales, customer service, and product development to provide holistic support and engagement to high-value or at-risk customers. These teams would be responsible for monitoring customer health indicators, developing personalized retention strategies, and ensuring a seamless customer experience across all touchpoints.\n",
        "\n",
        "By adopting these innovative strategies, Oasis Bank can significantly mitigate customer churn, foster loyalty, and enhance overall customer satisfaction, driving sustainable business growth and competitive advantage in the banking sector."
      ],
      "metadata": {
        "id": "B64GccAMQEHc"
      }
    }
  ]
}